{
 "cells": [
  {
   "cell_type": "markdown",
   "id": "73607d1d",
   "metadata": {},
   "source": [
    "# Project Description\n",
    "\n",
    "Our goal for this project is to create a program that synthesizes and graphs biological data to model how COVID-19 death rates compare between liberal and conservative states over the span of a year. During the COVID-19 pandemic, all of our team members noticed that there was a lot of political discussion over handling the spread of the coronavirus. As qualified voters ourselves, we recognize that the political split between Democratic states and Republican states creates a divide in opinions regarding many national issues, especially pandemic response efforts. For example, some states imposed more restrictions such as masking mandates, stay-at-home orders, and vaccine mandates while other states chose to take more lenient approaches to please the majority in the dominant party. Each state’s plans affected their death rates differently. Due to this, it took each state varying time and effort to open up its economy. We hypothesize that the different measures each state took determined whether certain states performed better in economic recovery and health outcomes. In order to test our hypothesis and satisfy our curiosity, we decided to use a dataset that includes the number of deaths every day in the month from March 2020 to March 2021 in each of the 50 states.\n",
    "\n",
    "## Team Member Names and Contributions\n",
    "Team Members: Annie Hoang, YingLin Zhu, and Jose Falconi-cavallini\n",
    "\n",
    "See PDF Notebook for specific contributions."
   ]
  },
  {
   "cell_type": "markdown",
   "id": "c8040cd6",
   "metadata": {},
   "source": [
    "## Calculating the Average Death Rate Per Month"
   ]
  },
  {
   "cell_type": "code",
   "execution_count": null,
   "id": "7a08bbd9",
   "metadata": {},
   "outputs": [],
   "source": [
    "Code\n"
   ]
  },
  {
   "cell_type": "markdown",
   "id": "611de7a0",
   "metadata": {},
   "source": [
    "## Calculating Number of Deaths Per Million"
   ]
  },
  {
   "cell_type": "code",
   "execution_count": null,
   "id": "3ab07d0f",
   "metadata": {},
   "outputs": [],
   "source": []
  },
  {
   "cell_type": "markdown",
   "id": "162fbf48",
   "metadata": {},
   "source": [
    "## Graphs of Deaths Per Million"
   ]
  },
  {
   "cell_type": "code",
   "execution_count": null,
   "id": "9ebee2c2",
   "metadata": {},
   "outputs": [],
   "source": []
  },
  {
   "cell_type": "markdown",
   "id": "7d3d3349",
   "metadata": {},
   "source": [
    "## Average Death Rate For Red vs Blue States"
   ]
  },
  {
   "cell_type": "code",
   "execution_count": null,
   "id": "a361d77c",
   "metadata": {},
   "outputs": [],
   "source": []
  },
  {
   "cell_type": "markdown",
   "id": "3beedd16",
   "metadata": {},
   "source": []
  }
 ],
 "metadata": {
  "kernelspec": {
   "display_name": "Python 3 (clean)",
   "language": "python",
   "name": "python3_clean"
  },
  "language_info": {
   "codemirror_mode": {
    "name": "ipython",
    "version": 3
   },
   "file_extension": ".py",
   "mimetype": "text/x-python",
   "name": "python",
   "nbconvert_exporter": "python",
   "pygments_lexer": "ipython3",
   "version": "3.9.5"
  }
 },
 "nbformat": 4,
 "nbformat_minor": 5
}
